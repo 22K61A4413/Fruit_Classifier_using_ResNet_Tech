{
  "nbformat": 4,
  "nbformat_minor": 0,
  "metadata": {
    "colab": {
      "provenance": [],
      "gpuType": "T4",
      "authorship_tag": "ABX9TyP/OKGL8cdEOEQobFGyTAIR",
      "include_colab_link": true
    },
    "kernelspec": {
      "name": "python3",
      "display_name": "Python 3"
    },
    "language_info": {
      "name": "python"
    },
    "accelerator": "GPU"
  },
  "cells": [
    {
      "cell_type": "markdown",
      "metadata": {
        "id": "view-in-github",
        "colab_type": "text"
      },
      "source": [
        "<a href=\"https://colab.research.google.com/github/22K61A4413/Fruit_Classifier_using_ResNet_Tech/blob/main/fruits_classifier_using_Resnet.ipynb\" target=\"_parent\"><img src=\"https://colab.research.google.com/assets/colab-badge.svg\" alt=\"Open In Colab\"/></a>"
      ]
    },
    {
      "cell_type": "code",
      "execution_count": null,
      "metadata": {
        "colab": {
          "base_uri": "https://localhost:8080/"
        },
        "id": "ny66-tMZbyTM",
        "outputId": "99a9130c-9aed-4609-a1e9-87caa3768449"
      },
      "outputs": [
        {
          "output_type": "stream",
          "name": "stdout",
          "text": [
            "Requirement already satisfied: torch in /usr/local/lib/python3.12/dist-packages (2.9.0)\n",
            "Requirement already satisfied: torchvision in /usr/local/lib/python3.12/dist-packages (0.24.0)\n",
            "Requirement already satisfied: torchaudio in /usr/local/lib/python3.12/dist-packages (2.9.0)\n",
            "Requirement already satisfied: filelock in /usr/local/lib/python3.12/dist-packages (from torch) (3.20.0)\n",
            "Requirement already satisfied: typing-extensions>=4.10.0 in /usr/local/lib/python3.12/dist-packages (from torch) (4.15.0)\n",
            "Requirement already satisfied: setuptools in /usr/local/lib/python3.12/dist-packages (from torch) (75.2.0)\n",
            "Requirement already satisfied: sympy>=1.13.3 in /usr/local/lib/python3.12/dist-packages (from torch) (1.13.3)\n",
            "Requirement already satisfied: networkx>=2.5.1 in /usr/local/lib/python3.12/dist-packages (from torch) (3.5)\n",
            "Requirement already satisfied: jinja2 in /usr/local/lib/python3.12/dist-packages (from torch) (3.1.6)\n",
            "Requirement already satisfied: fsspec>=0.8.5 in /usr/local/lib/python3.12/dist-packages (from torch) (2025.3.0)\n",
            "Requirement already satisfied: nvidia-cuda-nvrtc-cu12==12.8.93 in /usr/local/lib/python3.12/dist-packages (from torch) (12.8.93)\n",
            "Requirement already satisfied: nvidia-cuda-runtime-cu12==12.8.90 in /usr/local/lib/python3.12/dist-packages (from torch) (12.8.90)\n",
            "Requirement already satisfied: nvidia-cuda-cupti-cu12==12.8.90 in /usr/local/lib/python3.12/dist-packages (from torch) (12.8.90)\n",
            "Requirement already satisfied: nvidia-cudnn-cu12==9.10.2.21 in /usr/local/lib/python3.12/dist-packages (from torch) (9.10.2.21)\n",
            "Requirement already satisfied: nvidia-cublas-cu12==12.8.4.1 in /usr/local/lib/python3.12/dist-packages (from torch) (12.8.4.1)\n",
            "Requirement already satisfied: nvidia-cufft-cu12==11.3.3.83 in /usr/local/lib/python3.12/dist-packages (from torch) (11.3.3.83)\n",
            "Requirement already satisfied: nvidia-curand-cu12==10.3.9.90 in /usr/local/lib/python3.12/dist-packages (from torch) (10.3.9.90)\n",
            "Requirement already satisfied: nvidia-cusolver-cu12==11.7.3.90 in /usr/local/lib/python3.12/dist-packages (from torch) (11.7.3.90)\n",
            "Requirement already satisfied: nvidia-cusparse-cu12==12.5.8.93 in /usr/local/lib/python3.12/dist-packages (from torch) (12.5.8.93)\n",
            "Requirement already satisfied: nvidia-cusparselt-cu12==0.7.1 in /usr/local/lib/python3.12/dist-packages (from torch) (0.7.1)\n",
            "Requirement already satisfied: nvidia-nccl-cu12==2.27.5 in /usr/local/lib/python3.12/dist-packages (from torch) (2.27.5)\n",
            "Requirement already satisfied: nvidia-nvshmem-cu12==3.3.20 in /usr/local/lib/python3.12/dist-packages (from torch) (3.3.20)\n",
            "Requirement already satisfied: nvidia-nvtx-cu12==12.8.90 in /usr/local/lib/python3.12/dist-packages (from torch) (12.8.90)\n",
            "Requirement already satisfied: nvidia-nvjitlink-cu12==12.8.93 in /usr/local/lib/python3.12/dist-packages (from torch) (12.8.93)\n",
            "Requirement already satisfied: nvidia-cufile-cu12==1.13.1.3 in /usr/local/lib/python3.12/dist-packages (from torch) (1.13.1.3)\n",
            "Requirement already satisfied: triton==3.5.0 in /usr/local/lib/python3.12/dist-packages (from torch) (3.5.0)\n",
            "Requirement already satisfied: numpy in /usr/local/lib/python3.12/dist-packages (from torchvision) (2.0.2)\n",
            "Requirement already satisfied: pillow!=8.3.*,>=5.3.0 in /usr/local/lib/python3.12/dist-packages (from torchvision) (11.3.0)\n",
            "Requirement already satisfied: mpmath<1.4,>=1.1.0 in /usr/local/lib/python3.12/dist-packages (from sympy>=1.13.3->torch) (1.3.0)\n",
            "Requirement already satisfied: MarkupSafe>=2.0 in /usr/local/lib/python3.12/dist-packages (from jinja2->torch) (3.0.3)\n",
            "Requirement already satisfied: matplotlib in /usr/local/lib/python3.12/dist-packages (3.10.7)\n",
            "Requirement already satisfied: contourpy>=1.0.1 in /usr/local/lib/python3.12/dist-packages (from matplotlib) (1.3.3)\n",
            "Requirement already satisfied: cycler>=0.10 in /usr/local/lib/python3.12/dist-packages (from matplotlib) (0.12.1)\n",
            "Requirement already satisfied: fonttools>=4.22.0 in /usr/local/lib/python3.12/dist-packages (from matplotlib) (4.60.1)\n",
            "Requirement already satisfied: kiwisolver>=1.3.1 in /usr/local/lib/python3.12/dist-packages (from matplotlib) (1.4.9)\n",
            "Requirement already satisfied: numpy>=1.23 in /usr/local/lib/python3.12/dist-packages (from matplotlib) (2.0.2)\n",
            "Requirement already satisfied: packaging>=20.0 in /usr/local/lib/python3.12/dist-packages (from matplotlib) (25.0)\n",
            "Requirement already satisfied: pillow>=8 in /usr/local/lib/python3.12/dist-packages (from matplotlib) (11.3.0)\n",
            "Requirement already satisfied: pyparsing>=3 in /usr/local/lib/python3.12/dist-packages (from matplotlib) (3.2.5)\n",
            "Requirement already satisfied: python-dateutil>=2.7 in /usr/local/lib/python3.12/dist-packages (from matplotlib) (2.9.0.post0)\n",
            "Requirement already satisfied: six>=1.5 in /usr/local/lib/python3.12/dist-packages (from python-dateutil>=2.7->matplotlib) (1.17.0)\n",
            "Requirement already satisfied: seaborn in /usr/local/lib/python3.12/dist-packages (0.13.2)\n",
            "Requirement already satisfied: numpy!=1.24.0,>=1.20 in /usr/local/lib/python3.12/dist-packages (from seaborn) (2.0.2)\n",
            "Requirement already satisfied: pandas>=1.2 in /usr/local/lib/python3.12/dist-packages (from seaborn) (2.2.2)\n",
            "Requirement already satisfied: matplotlib!=3.6.1,>=3.4 in /usr/local/lib/python3.12/dist-packages (from seaborn) (3.10.7)\n",
            "Requirement already satisfied: contourpy>=1.0.1 in /usr/local/lib/python3.12/dist-packages (from matplotlib!=3.6.1,>=3.4->seaborn) (1.3.3)\n",
            "Requirement already satisfied: cycler>=0.10 in /usr/local/lib/python3.12/dist-packages (from matplotlib!=3.6.1,>=3.4->seaborn) (0.12.1)\n",
            "Requirement already satisfied: fonttools>=4.22.0 in /usr/local/lib/python3.12/dist-packages (from matplotlib!=3.6.1,>=3.4->seaborn) (4.60.1)\n",
            "Requirement already satisfied: kiwisolver>=1.3.1 in /usr/local/lib/python3.12/dist-packages (from matplotlib!=3.6.1,>=3.4->seaborn) (1.4.9)\n",
            "Requirement already satisfied: packaging>=20.0 in /usr/local/lib/python3.12/dist-packages (from matplotlib!=3.6.1,>=3.4->seaborn) (25.0)\n",
            "Requirement already satisfied: pillow>=8 in /usr/local/lib/python3.12/dist-packages (from matplotlib!=3.6.1,>=3.4->seaborn) (11.3.0)\n",
            "Requirement already satisfied: pyparsing>=3 in /usr/local/lib/python3.12/dist-packages (from matplotlib!=3.6.1,>=3.4->seaborn) (3.2.5)\n",
            "Requirement already satisfied: python-dateutil>=2.7 in /usr/local/lib/python3.12/dist-packages (from matplotlib!=3.6.1,>=3.4->seaborn) (2.9.0.post0)\n",
            "Requirement already satisfied: pytz>=2020.1 in /usr/local/lib/python3.12/dist-packages (from pandas>=1.2->seaborn) (2025.2)\n",
            "Requirement already satisfied: tzdata>=2022.7 in /usr/local/lib/python3.12/dist-packages (from pandas>=1.2->seaborn) (2025.2)\n",
            "Requirement already satisfied: six>=1.5 in /usr/local/lib/python3.12/dist-packages (from python-dateutil>=2.7->matplotlib!=3.6.1,>=3.4->seaborn) (1.17.0)\n"
          ]
        }
      ],
      "source": [
        " # Core PyTorch (Torch + TorchVision)\n",
        "!pip install torch torchvision torchaudio --upgrade\n",
        "\n",
        "# Matplotlib for plotting\n",
        "!pip install matplotlib --upgrade\n",
        "\n",
        "# Seaborn for nice plots\n",
        "!pip install seaborn --upgrade"
      ]
    },
    {
      "cell_type": "code",
      "source": [
        "from google.colab import drive    # connects drive to this Colab\n",
        "drive.mount('/content/drive')"
      ],
      "metadata": {
        "colab": {
          "base_uri": "https://localhost:8080/"
        },
        "id": "1AB3eu1_b8g1",
        "outputId": "86affb44-7426-4af8-d60d-8bf30828ab7e"
      },
      "execution_count": null,
      "outputs": [
        {
          "output_type": "stream",
          "name": "stdout",
          "text": [
            "Mounted at /content/drive\n"
          ]
        }
      ]
    },
    {
      "cell_type": "code",
      "source": [
        "zip_path=\"/content/drive/MyDrive/Fruits Classification.zip\""
      ],
      "metadata": {
        "id": "upPUDGD4crF8"
      },
      "execution_count": null,
      "outputs": []
    },
    {
      "cell_type": "code",
      "source": [
        "import zipfile\n",
        "import os\n",
        "\n",
        "extract_folder = \"/content/fruits_dataset\"\n",
        "\n",
        "with zipfile.ZipFile(zip_path, 'r') as zip_ref:\n",
        "    zip_ref.extractall(extract_folder)\n",
        "\n",
        "print(\"✅ Extraction complete!\")"
      ],
      "metadata": {
        "colab": {
          "base_uri": "https://localhost:8080/"
        },
        "id": "iyXqxq_-dG-B",
        "outputId": "d6e41492-c115-44d4-a1cf-5fcb1ba61546"
      },
      "execution_count": null,
      "outputs": [
        {
          "output_type": "stream",
          "name": "stdout",
          "text": [
            "✅ Extraction complete!\n"
          ]
        }
      ]
    },
    {
      "cell_type": "code",
      "source": [
        "# =============================\n",
        "# 1. Setup & Imports\n",
        "# =============================\n",
        "import torch\n",
        "import torch.nn as nn\n",
        "import torch.optim as optim\n",
        "from torchvision import datasets, transforms, models\n",
        "from torch.utils.data import DataLoader\n",
        "from torch.optim.lr_scheduler import StepLR\n",
        "import matplotlib.pyplot as plt\n",
        "import seaborn as sns\n",
        "from sklearn.metrics import confusion_matrix, classification_report\n",
        "\n",
        "device = torch.device(\"cuda\" if torch.cuda.is_available() else \"cpu\")\n",
        "print(\"Using:\", device)"
      ],
      "metadata": {
        "colab": {
          "base_uri": "https://localhost:8080/"
        },
        "id": "TTmngzOWdMfj",
        "outputId": "44f7c229-957c-4bb7-f4ed-8dd17d3c7bae"
      },
      "execution_count": null,
      "outputs": [
        {
          "output_type": "stream",
          "name": "stdout",
          "text": [
            "Using: cuda\n"
          ]
        }
      ]
    },
    {
      "cell_type": "code",
      "source": [
        "# =============================\n",
        "# 2. Data Preparation\n",
        "# =============================\n",
        "train_dir = \"/content/fruits_dataset/Fruits Classification/train\"\n",
        "val_dir = \"/content/fruits_dataset/Fruits Classification/valid\"\n",
        "\n",
        "transform_train = transforms.Compose([\n",
        "    transforms.RandomResizedCrop(224),\n",
        "    transforms.RandomHorizontalFlip(),\n",
        "    transforms.RandomVerticalFlip(),\n",
        "    transforms.ColorJitter(brightness=0.3, contrast=0.3, saturation=0.3),\n",
        "    transforms.RandomRotation(25),\n",
        "    transforms.ToTensor(),\n",
        "    transforms.Normalize([0.485, 0.456, 0.406],\n",
        "                         [0.229, 0.224, 0.225])\n",
        "])\n",
        "\n",
        "transform_val = transforms.Compose([\n",
        "    transforms.Resize((224,224)),\n",
        "    transforms.ToTensor(),\n",
        "    transforms.Normalize([0.485, 0.456, 0.406],\n",
        "                         [0.229, 0.224, 0.225])\n",
        "])\n",
        "\n",
        "train_dataset = datasets.ImageFolder(train_dir, transform=transform_train)\n",
        "val_dataset   = datasets.ImageFolder(val_dir, transform=transform_val)\n",
        "\n",
        "train_loader = DataLoader(train_dataset, batch_size=32, shuffle=True)\n",
        "val_loader   = DataLoader(val_dataset, batch_size=32, shuffle=False)\n",
        "\n",
        "class_names = train_dataset.classes\n",
        "num_classes = len(class_names)\n",
        "print(\"Classes:\", class_names)"
      ],
      "metadata": {
        "colab": {
          "base_uri": "https://localhost:8080/"
        },
        "id": "Dko5_MuZdbM9",
        "outputId": "2e78a501-a61e-4660-e659-0be7870da49c"
      },
      "execution_count": null,
      "outputs": [
        {
          "output_type": "stream",
          "name": "stdout",
          "text": [
            "Classes: ['Apple', 'Banana', 'Grape', 'Mango', 'Strawberry']\n"
          ]
        }
      ]
    },
    {
      "cell_type": "code",
      "source": [
        "# =============================\n",
        "# 3. Model (ResNet18 Pretrained)\n",
        "# =============================\n",
        "model = models.resnet18(weights=\"IMAGENET1K_V1\")\n",
        "\n",
        "# Freeze backbone initially\n",
        "for param in model.parameters():\n",
        "    param.requires_grad = False\n",
        "\n",
        "# Replace classifier head\n",
        "model.fc = nn.Sequential(\n",
        "    nn.Linear(model.fc.in_features, 256),\n",
        "    nn.ReLU(),\n",
        "    nn.Dropout(0.4),\n",
        "    nn.Linear(256, num_classes)\n",
        ")\n",
        "model = model.to(device)"
      ],
      "metadata": {
        "colab": {
          "base_uri": "https://localhost:8080/"
        },
        "id": "pViXFZgfdwOR",
        "outputId": "cbd34159-8efb-465d-f36a-ef039854b7b2"
      },
      "execution_count": null,
      "outputs": [
        {
          "output_type": "stream",
          "name": "stdout",
          "text": [
            "Downloading: \"https://download.pytorch.org/models/resnet18-f37072fd.pth\" to /root/.cache/torch/hub/checkpoints/resnet18-f37072fd.pth\n"
          ]
        },
        {
          "output_type": "stream",
          "name": "stderr",
          "text": [
            "100%|██████████| 44.7M/44.7M [00:00<00:00, 215MB/s]\n"
          ]
        }
      ]
    },
    {
      "cell_type": "code",
      "source": [
        "# =============================\n",
        "# 4. Training Function\n",
        "# =============================\n",
        "def train_model(model, train_loader, val_loader, freeze_epochs=10, total_epochs=20):\n",
        "    criterion = nn.CrossEntropyLoss()\n",
        "\n",
        "    # Optimizer for head only\n",
        "    optimizer = optim.Adam(model.fc.parameters(), lr=0.001)\n",
        "    scheduler = StepLR(optimizer, step_size=7, gamma=0.1)\n",
        "\n",
        "    for epoch in range(total_epochs):\n",
        "        # Unfreeze backbone after freeze_epochs\n",
        "        if epoch == freeze_epochs:\n",
        "            print(\"🔓 Unfreezing backbone for fine-tuning...\")\n",
        "            for param in model.parameters():\n",
        "                param.requires_grad = True\n",
        "            optimizer = optim.Adam(model.parameters(), lr=1e-4)  # smaller LR for fine-tuning\n",
        "            scheduler = StepLR(optimizer, step_size=5, gamma=0.1)\n",
        "\n",
        "        # --- Training ---\n",
        "        model.train()\n",
        "        running_loss, running_corrects = 0.0, 0\n",
        "        for inputs, labels in train_loader:\n",
        "            inputs, labels = inputs.to(device), labels.to(device)\n",
        "\n",
        "            optimizer.zero_grad()\n",
        "            outputs = model(inputs)\n",
        "            loss = criterion(outputs, labels)\n",
        "            loss.backward()\n",
        "            optimizer.step()\n",
        "\n",
        "            _, preds = torch.max(outputs, 1)\n",
        "            running_loss += loss.item() * inputs.size(0)\n",
        "            running_corrects += torch.sum(preds == labels)\n",
        "\n",
        "        train_loss = running_loss / len(train_loader.dataset)\n",
        "        train_acc = running_corrects.double() / len(train_loader.dataset)\n",
        "\n",
        "        # --- Validation ---\n",
        "        model.eval()\n",
        "        val_loss, val_corrects = 0.0, 0\n",
        "        with torch.no_grad():\n",
        "            for inputs, labels in val_loader:\n",
        "                inputs, labels = inputs.to(device), labels.to(device)\n",
        "                outputs = model(inputs)\n",
        "                loss = criterion(outputs, labels)\n",
        "                _, preds = torch.max(outputs, 1)\n",
        "                val_loss += loss.item() * inputs.size(0)\n",
        "                val_corrects += torch.sum(preds == labels)\n",
        "\n",
        "        val_loss /= len(val_loader.dataset)\n",
        "        val_acc = val_corrects.double() / len(val_loader.dataset)\n",
        "\n",
        "        scheduler.step()\n",
        "\n",
        "        print(f\"Epoch {epoch+1}/{total_epochs}: \"\n",
        "              f\"Train Loss={train_loss:.4f}, Train Acc={train_acc:.4f}, \"\n",
        "              f\"Val Loss={val_loss:.4f}, Val Acc={val_acc:.4f}\")\n",
        "\n",
        "    return model"
      ],
      "metadata": {
        "id": "ug_9K23UTONe"
      },
      "execution_count": null,
      "outputs": []
    },
    {
      "cell_type": "code",
      "source": [
        "# =============================\n",
        "# 5. Train with Progressive Unfreeze\n",
        "# =============================\n",
        "model = train_model(model, train_loader, val_loader,\n",
        "                    freeze_epochs=15, total_epochs=20)"
      ],
      "metadata": {
        "id": "FHNsyVY3QSFN"
      },
      "execution_count": null,
      "outputs": []
    },
    {
      "cell_type": "code",
      "source": [
        "# =============================\n",
        "# 6. Confusion Matrix + Report\n",
        "# =============================\n",
        "model.eval()\n",
        "all_preds, all_labels = [], []\n",
        "with torch.no_grad():\n",
        "    for inputs, labels in val_loader:\n",
        "        inputs, labels = inputs.to(device), labels.to(device)\n",
        "        outputs = model(inputs)\n",
        "        _, preds = torch.max(outputs, 1)\n",
        "        all_preds.extend(preds.cpu().numpy())\n",
        "        all_labels.extend(labels.cpu().numpy())\n",
        "\n",
        "cm = confusion_matrix(all_labels, all_preds)\n",
        "plt.figure(figsize=(8,6))\n",
        "sns.heatmap(cm, annot=True, fmt=\"d\", cmap=\"Blues\",\n",
        "            xticklabels=class_names,\n",
        "            yticklabels=class_names)\n",
        "plt.xlabel(\"Predicted\")\n",
        "plt.ylabel(\"True\")\n",
        "plt.title(\"Confusion Matrix - Fruit Classification\")\n",
        "plt.show()\n",
        "\n",
        "print(\"\\nClassification Report:\\n\")\n",
        "print(classification_report(all_labels, all_preds, target_names=class_names))\n"
      ],
      "metadata": {
        "id": "jZy2VRPHeB3n",
        "colab": {
          "base_uri": "https://localhost:8080/",
          "height": 824
        },
        "outputId": "27c25d36-0dcd-4ba0-fa25-03c92ce3703b"
      },
      "execution_count": null,
      "outputs": [
        {
          "output_type": "display_data",
          "data": {
            "text/plain": [
              "<Figure size 800x600 with 2 Axes>"
            ],
            "image/png": "[encoded data removed]"
          },
          "metadata": {}
        },
        {
          "output_type": "stream",
          "name": "stdout",
          "text": [
            "\n",
            "Classification Report:\n",
            "\n",
            "              precision    recall  f1-score   support\n",
            "\n",
            "       Apple       0.85      0.85      0.85        40\n",
            "      Banana       0.79      0.95      0.86        40\n",
            "       Grape       0.91      0.78      0.84        40\n",
            "       Mango       0.94      0.85      0.89        40\n",
            "  Strawberry       0.93      0.97      0.95        40\n",
            "\n",
            "    accuracy                           0.88       200\n",
            "   macro avg       0.89      0.88      0.88       200\n",
            "weighted avg       0.89      0.88      0.88       200\n",
            "\n"
          ]
        }
      ]
    },
    {
      "cell_type": "code",
      "source": [],
      "metadata": {
        "id": "XpZRdVhxdw3P"
      },
      "execution_count": null,
      "outputs": []
    },
    {
      "cell_type": "code",
      "source": [
        "import torch\n",
        "import json\n",
        "\n",
        "# Save model weights\n",
        "model_path = \"fruit_resnet18_transfer.pth\"\n",
        "torch.save(model.state_dict(), model_path)\n",
        "print(f\"✅ Model saved as {model_path}\")\n",
        "\n",
        "# Save class names\n",
        "classes_path = \"class_names.json\"\n",
        "with open(classes_path, \"w\") as f:\n",
        "    json.dump(train_dataset.classes, f)\n",
        "print(f\"✅ Class names saved as {classes_path}\")"
      ],
      "metadata": {
        "colab": {
          "base_uri": "https://localhost:8080/"
        },
        "id": "veKXEiJYfPQF",
        "outputId": "4d81cdac-b213-4490-f4b7-b993187f8aa8"
      },
      "execution_count": null,
      "outputs": [
        {
          "output_type": "stream",
          "name": "stdout",
          "text": [
            "✅ Model saved as fruit_resnet18_transfer.pth\n",
            "✅ Class names saved as class_names.json\n"
          ]
        }
      ]
    },
    {
      "cell_type": "code",
      "source": [
        "from google.colab import files\n",
        "\n",
        "# Download model\n",
        "files.download(model_path)\n",
        "\n",
        "# Download class names\n",
        "files.download(classes_path)"
      ],
      "metadata": {
        "colab": {
          "base_uri": "https://localhost:8080/",
          "height": 17
        },
        "id": "zxzOj_qQfscf",
        "outputId": "1318b878-67bb-4eb6-adad-a7171b4c3d2a"
      },
      "execution_count": null,
      "outputs": [
        {
          "output_type": "display_data",
          "data": {
            "text/plain": [
              "<IPython.core.display.Javascript object>"
            ],
            "application/javascript": [
              "\n",
              "    async function download(id, filename, size) {\n",
              "      if (!google.colab.kernel.accessAllowed) {\n",
              "        return;\n",
              "      }\n",
              "      const div = document.createElement('div');\n",
              "      const label = document.createElement('label');\n",
              "      label.textContent = `Downloading \"${filename}\": `;\n",
              "      div.appendChild(label);\n",
              "      const progress = document.createElement('progress');\n",
              "      progress.max = size;\n",
              "      div.appendChild(progress);\n",
              "      document.body.appendChild(div);\n",
              "\n",
              "      const buffers = [];\n",
              "      let downloaded = 0;\n",
              "\n",
              "      const channel = await google.colab.kernel.comms.open(id);\n",
              "      // Send a message to notify the kernel that we're ready.\n",
              "      channel.send({})\n",
              "\n",
              "      for await (const message of channel.messages) {\n",
              "        // Send a message to notify the kernel that we're ready.\n",
              "        channel.send({})\n",
              "        if (message.buffers) {\n",
              "          for (const buffer of message.buffers) {\n",
              "            buffers.push(buffer);\n",
              "            downloaded += buffer.byteLength;\n",
              "            progress.value = downloaded;\n",
              "          }\n",
              "        }\n",
              "      }\n",
              "      const blob = new Blob(buffers, {type: 'application/binary'});\n",
              "      const a = document.createElement('a');\n",
              "      a.href = window.URL.createObjectURL(blob);\n",
              "      a.download = filename;\n",
              "      div.appendChild(a);\n",
              "      a.click();\n",
              "      div.remove();\n",
              "    }\n",
              "  "
            ]
          },
          "metadata": {}
        },
        {
          "output_type": "display_data",
          "data": {
            "text/plain": [
              "<IPython.core.display.Javascript object>"
            ],
            "application/javascript": [
              "download(\"download_4daa6054-7242-43ca-819d-2935ab1817d8\", \"fruit_resnet18_transfer.pth\", 45318567)"
            ]
          },
          "metadata": {}
        },
        {
          "output_type": "display_data",
          "data": {
            "text/plain": [
              "<IPython.core.display.Javascript object>"
            ],
            "application/javascript": [
              "\n",
              "    async function download(id, filename, size) {\n",
              "      if (!google.colab.kernel.accessAllowed) {\n",
              "        return;\n",
              "      }\n",
              "      const div = document.createElement('div');\n",
              "      const label = document.createElement('label');\n",
              "      label.textContent = `Downloading \"${filename}\": `;\n",
              "      div.appendChild(label);\n",
              "      const progress = document.createElement('progress');\n",
              "      progress.max = size;\n",
              "      div.appendChild(progress);\n",
              "      document.body.appendChild(div);\n",
              "\n",
              "      const buffers = [];\n",
              "      let downloaded = 0;\n",
              "\n",
              "      const channel = await google.colab.kernel.comms.open(id);\n",
              "      // Send a message to notify the kernel that we're ready.\n",
              "      channel.send({})\n",
              "\n",
              "      for await (const message of channel.messages) {\n",
              "        // Send a message to notify the kernel that we're ready.\n",
              "        channel.send({})\n",
              "        if (message.buffers) {\n",
              "          for (const buffer of message.buffers) {\n",
              "            buffers.push(buffer);\n",
              "            downloaded += buffer.byteLength;\n",
              "            progress.value = downloaded;\n",
              "          }\n",
              "        }\n",
              "      }\n",
              "      const blob = new Blob(buffers, {type: 'application/binary'});\n",
              "      const a = document.createElement('a');\n",
              "      a.href = window.URL.createObjectURL(blob);\n",
              "      a.download = filename;\n",
              "      div.appendChild(a);\n",
              "      a.click();\n",
              "      div.remove();\n",
              "    }\n",
              "  "
            ]
          },
          "metadata": {}
        },
        {
          "output_type": "display_data",
          "data": {
            "text/plain": [
              "<IPython.core.display.Javascript object>"
            ],
            "application/javascript": [
              "download(\"download_4d3646a4-0e74-47e5-a401-415c84808148\", \"class_names.json\", 51)"
            ]
          },
          "metadata": {}
        }
      ]
    },
    {
      "cell_type": "code",
      "source": [
        "from google.colab import drive    # connects drive to this Colab\n",
        "drive.mount('/content/drive')"
      ],
      "metadata": {
        "colab": {
          "base_uri": "https://localhost:8080/"
        },
        "id": "h-UgHF0yfwid",
        "outputId": "6596c275-d5a8-43f0-d4f3-fb65f6feb096"
      },
      "execution_count": null,
      "outputs": [
        {
          "output_type": "stream",
          "name": "stdout",
          "text": [
            "Drive already mounted at /content/drive; to attempt to forcibly remount, call drive.mount(\"/content/drive\", force_remount=True).\n"
          ]
        }
      ]
    },
    {
      "cell_type": "code",
      "source": [
        "# ============================\n",
        "# ✅ Install dependencies\n",
        "# ============================\n",
        "!pip install flask pyngrok --quiet"
      ],
      "metadata": {
        "id": "dJJ2Vyw1f2Sk"
      },
      "execution_count": null,
      "outputs": []
    },
    {
      "cell_type": "code",
      "source": [
        "%%writefile app.py\n",
        "import os\n",
        "from flask import Flask, request, render_template, send_from_directory\n",
        "from werkzeug.utils import secure_filename\n",
        "from PIL import Image\n",
        "import torch\n",
        "import torch.nn as nn\n",
        "from torchvision import models, transforms\n",
        "import json\n",
        "\n",
        "# ----------------------------\n",
        "# Config\n",
        "# ----------------------------\n",
        "UPLOAD_FOLDER = \"uploads\"\n",
        "ALLOWED_EXTENSIONS = {\"png\", \"jpg\", \"jpeg\"}\n",
        "MODEL_PATH = \"/content/fruit_resnet18_transfer.pth\"\n",
        "CLASS_PATH = \"/content/class_names.json\"\n",
        "DEVICE = \"cuda\" if torch.cuda.is_available() else \"cpu\"\n",
        "\n",
        "os.makedirs(UPLOAD_FOLDER, exist_ok=True)\n",
        "\n",
        "def allowed_file(filename):\n",
        "    return \".\" in filename and filename.rsplit(\".\", 1)[1].lower() in ALLOWED_EXTENSIONS\n",
        "\n",
        "def load_class_names(path):\n",
        "    with open(path, \"r\") as f:\n",
        "        return json.load(f)\n",
        "\n",
        "def build_model(num_classes):\n",
        "    model = models.resnet18(weights=None)\n",
        "    model.fc = nn.Sequential(\n",
        "        nn.Linear(model.fc.in_features, 256),\n",
        "        nn.ReLU(),\n",
        "        nn.Dropout(0.4),\n",
        "        nn.Linear(256, num_classes)\n",
        "    )\n",
        "    return model\n",
        "\n",
        "# Preprocessing\n",
        "inference_tfms = transforms.Compose([\n",
        "    transforms.Resize((224, 224)),\n",
        "    transforms.ToTensor(),\n",
        "    transforms.Normalize([0.485, 0.456, 0.406],\n",
        "                         [0.229, 0.224, 0.225])\n",
        "])\n",
        "\n",
        "# ----------------------------\n",
        "# Load Model + Classes\n",
        "# ----------------------------\n",
        "class_names = load_class_names(CLASS_PATH)\n",
        "model = build_model(len(class_names))\n",
        "state = torch.load(MODEL_PATH, map_location=DEVICE)\n",
        "model.load_state_dict(state)\n",
        "model.to(DEVICE)\n",
        "model.eval()\n",
        "\n",
        "# ----------------------------\n",
        "# Flask App\n",
        "# ----------------------------\n",
        "app = Flask(__name__, template_folder=\"templates\", static_folder=\"static\")\n",
        "app.config[\"UPLOAD_FOLDER\"] = UPLOAD_FOLDER\n",
        "\n",
        "@app.route(\"/\", methods=[\"GET\", \"POST\"])\n",
        "def index():\n",
        "    pred_label = None\n",
        "    filename = None\n",
        "\n",
        "    if request.method == \"POST\":\n",
        "        file = request.files.get(\"file\")\n",
        "        if file and allowed_file(file.filename):\n",
        "            filename = secure_filename(file.filename)\n",
        "            filepath = os.path.join(app.config[\"UPLOAD_FOLDER\"], filename)\n",
        "            file.save(filepath)\n",
        "\n",
        "            # Predict\n",
        "            img = Image.open(filepath).convert(\"RGB\")\n",
        "            x = inference_tfms(img).unsqueeze(0).to(DEVICE)\n",
        "            with torch.no_grad():\n",
        "                outputs = model(x)\n",
        "                _, pred_idx = torch.max(outputs, 1)\n",
        "                pred_label = class_names[pred_idx.item()]\n",
        "\n",
        "    return render_template(\n",
        "        \"index.html\",\n",
        "        pred_label=pred_label,\n",
        "        filename=filename,\n",
        "        class_names=class_names\n",
        "    )\n",
        "\n",
        "@app.route(\"/uploads/<path:filename>\")\n",
        "def uploaded_file(filename):\n",
        "    return send_from_directory(app.config[\"UPLOAD_FOLDER\"], filename)\n",
        "\n",
        "if __name__ == \"__main__\":\n",
        "    app.run(host=\"0.0.0.0\", port=5000)\n"
      ],
      "metadata": {
        "colab": {
          "base_uri": "https://localhost:8080/"
        },
        "id": "6E3xNL_Qf7L6",
        "outputId": "1452e43d-27f3-4188-d9d1-8db5504e8a8a"
      },
      "execution_count": null,
      "outputs": [
        {
          "output_type": "stream",
          "name": "stdout",
          "text": [
            "Overwriting app.py\n"
          ]
        }
      ]
    },
    {
      "cell_type": "code",
      "source": [
        "!mkdir -p templates\n",
        "!mkdir -p static"
      ],
      "metadata": {
        "id": "YgsKkuW1gF7j"
      },
      "execution_count": null,
      "outputs": []
    },
    {
      "cell_type": "code",
      "source": [
        "# ============================\n",
        "# ✅ HTML Template\n",
        "# ============================\n",
        "\n",
        "\n",
        "%%writefile templates/index.html\n",
        "<!DOCTYPE html>\n",
        "<html lang=\"en\">\n",
        "<head>\n",
        "  <meta charset=\"UTF-8\" />\n",
        "  <title>🍎🍌 Fruit Classifier</title>\n",
        "  <meta name=\"viewport\" content=\"width=device-width, initial-scale=1\" />\n",
        "  <link href=\"{{ url_for('static', filename='styles.css') }}\" rel=\"stylesheet\" />\n",
        "</head>\n",
        "<body>\n",
        "  <div class=\"container\">\n",
        "    <h1>🍎🍌 Fruit Classifier</h1>\n",
        "\n",
        "    <form method=\"POST\" action=\"{{ url_for('index') }}\" enctype=\"multipart/form-data\" class=\"upload-card\">\n",
        "      <input id=\"file\" name=\"file\" type=\"file\" accept=\"image/*\" required />\n",
        "      <button type=\"submit\">Predict</button>\n",
        "    </form>\n",
        "\n",
        "    {% if filename %}\n",
        "      <div class=\"result\">\n",
        "        <div class=\"preview\">\n",
        "          <img src=\"{{ url_for('uploaded_file', filename=filename) }}\" alt=\"Uploaded image\" width=\"300\" />\n",
        "        </div>\n",
        "        <div class=\"prediction\">\n",
        "          <h2>Prediction</h2>\n",
        "          <p class=\"pred-class\">{{ pred_label }}</p>\n",
        "        </div>\n",
        "      </div>\n",
        "    {% endif %}\n",
        "\n",
        "    <footer>\n",
        "      <p>Available Classes: {{ \", \".join(class_names) }}</p>\n",
        "    </footer>\n",
        "  </div>\n",
        "</body>\n",
        "</html>\n"
      ],
      "metadata": {
        "colab": {
          "base_uri": "https://localhost:8080/"
        },
        "id": "g7GeYf4dgPoW",
        "outputId": "a30a18e1-8754-40a5-e3a6-4dcafb38b8c2"
      },
      "execution_count": null,
      "outputs": [
        {
          "output_type": "stream",
          "name": "stdout",
          "text": [
            "Overwriting templates/index.html\n"
          ]
        }
      ]
    },
    {
      "cell_type": "code",
      "source": [
        "%%writefile static/styles.css\n",
        "\n",
        "body {\n",
        "  font-family: \"Segoe UI\", Tahoma, Geneva, Verdana, sans-serif;\n",
        "  background: #f9fafb;\n",
        "  margin: 0;\n",
        "  padding: 0;\n",
        "  color: #333;\n",
        "}\n",
        "\n",
        ".container {\n",
        "  max-width: 800px;\n",
        "  margin: 30px auto;\n",
        "  padding: 20px;\n",
        "  background: #fff;\n",
        "  border-radius: 12px;\n",
        "  box-shadow: 0px 4px 10px rgba(0,0,0,0.1);\n",
        "  text-align: center;\n",
        "}\n",
        "\n",
        "h1 {\n",
        "  font-size: 2rem;\n",
        "  margin-bottom: 10px;\n",
        "}\n",
        "\n",
        ".subtitle {\n",
        "  color: #555;\n",
        "  margin-bottom: 20px;\n",
        "}\n",
        "\n",
        ".alert {\n",
        "  background: #ffdddd;\n",
        "  border: 1px solid #ff5c5c;\n",
        "  color: #a10000;\n",
        "  padding: 10px;\n",
        "  border-radius: 6px;\n",
        "  margin-bottom: 20px;\n",
        "}\n",
        "\n",
        ".upload-card {\n",
        "  margin-bottom: 20px;\n",
        "}\n",
        "\n",
        ".upload-label {\n",
        "  display: block;\n",
        "  font-weight: bold;\n",
        "  margin-bottom: 8px;\n",
        "}\n",
        "\n",
        "input[type=\"file\"] {\n",
        "  margin: 10px 0;\n",
        "}\n",
        "\n",
        "button {\n",
        "  background: #4cafef;\n",
        "  border: none;\n",
        "  padding: 10px 18px;\n",
        "  font-size: 1rem;\n",
        "  border-radius: 6px;\n",
        "  cursor: pointer;\n",
        "  color: white;\n",
        "  transition: 0.3s ease;\n",
        "}\n",
        "\n",
        "button:hover {\n",
        "  background: #2196f3;\n",
        "}\n",
        "\n",
        ".result {\n",
        "  display: flex;\n",
        "  justify-content: space-around;\n",
        "  align-items: flex-start;\n",
        "  margin-top: 20px;\n",
        "  gap: 20px;\n",
        "  flex-wrap: wrap;\n",
        "}\n",
        "\n",
        ".preview img {\n",
        "  max-width: 250px;\n",
        "  border-radius: 8px;\n",
        "  box-shadow: 0px 4px 10px rgba(0,0,0,0.1);\n",
        "}\n",
        "\n",
        ".prediction {\n",
        "  background: #f0f8ff;\n",
        "  padding: 20px;\n",
        "  border-radius: 8px;\n",
        "  flex: 1;\n",
        "}\n",
        "\n",
        ".pred-class {\n",
        "  font-size: 1.5rem;\n",
        "  font-weight: bold;\n",
        "  color: #0a6eff;\n",
        "}\n",
        "\n",
        "footer {\n",
        "  margin-top: 30px;\n",
        "  font-size: 0.9rem;\n",
        "  color: #666;\n",
        "}"
      ],
      "metadata": {
        "colab": {
          "base_uri": "https://localhost:8080/"
        },
        "id": "sIoc8ZG7gaAD",
        "outputId": "0355da34-310e-485a-9639-6fa2a12e9ab3"
      },
      "execution_count": null,
      "outputs": [
        {
          "output_type": "stream",
          "name": "stdout",
          "text": [
            "Overwriting static/styles.css\n"
          ]
        }
      ]
    },
    {
      "cell_type": "code",
      "source": [
        "!pkill -f flask || echo \"No flask running\"\n",
        "!pkill -f ngrok || echo \"No ngrok running\"\n",
        "!lsof -i :5000   # check who’s using port 5000\n",
        "!kill -9 <PID>\n"
      ],
      "metadata": {
        "colab": {
          "base_uri": "https://localhost:8080/"
        },
        "id": "mc4k3hYMggRD",
        "outputId": "12bd80c8-594d-4cc9-a1ac-5bf33e9230a0"
      },
      "execution_count": null,
      "outputs": [
        {
          "output_type": "stream",
          "name": "stdout",
          "text": [
            "^C\n",
            "^C\n",
            "/bin/bash: -c: line 1: syntax error near unexpected token `newline'\n",
            "/bin/bash: -c: line 1: `kill -9 <PID>'\n"
          ]
        }
      ]
    },
    {
      "cell_type": "code",
      "source": [
        "# 🔎 List processes using port 8000\n",
        "!lsof -i :5000"
      ],
      "metadata": {
        "id": "61dXUIXAgqep"
      },
      "execution_count": null,
      "outputs": []
    },
    {
      "cell_type": "code",
      "source": [
        "# ❌ Kill process by PID (replace 12345 with actual PID from previous cell)\n",
        "!kill -9 16030"
      ],
      "metadata": {
        "colab": {
          "base_uri": "https://localhost:8080/"
        },
        "id": "b71MqgcGhAp9",
        "outputId": "1ea4a50f-9e32-48dd-9d4c-d75cb3005ed5"
      },
      "execution_count": null,
      "outputs": [
        {
          "output_type": "stream",
          "name": "stdout",
          "text": [
            "/bin/bash: line 1: kill: (16030) - No such process\n"
          ]
        }
      ]
    },
    {
      "cell_type": "code",
      "source": [
        "# ============================\n",
        "# ✅ Run Flask in background\n",
        "# ============================\n",
        "!nohup python app.py > flask.log 2>&1 &"
      ],
      "metadata": {
        "id": "iOKAv87JhL-T"
      },
      "execution_count": null,
      "outputs": []
    },
    {
      "cell_type": "code",
      "source": [
        "!tail -n 50 flask.log"
      ],
      "metadata": {
        "colab": {
          "base_uri": "https://localhost:8080/"
        },
        "id": "Q4nO1cPThVgi",
        "outputId": "4a57e513-b883-492a-8ba7-591c6b94e3be"
      },
      "execution_count": null,
      "outputs": [
        {
          "output_type": "stream",
          "name": "stdout",
          "text": [
            " * Serving Flask app 'app'\n",
            " * Debug mode: off\n",
            "\u001b[31m\u001b[1mWARNING: This is a development server. Do not use it in a production deployment. Use a production WSGI server instead.\u001b[0m\n",
            " * Running on all addresses (0.0.0.0)\n",
            " * Running on http://127.0.0.1:5000\n",
            " * Running on http://172.28.0.12:5000\n",
            "\u001b[33mPress CTRL+C to quit\u001b[0m\n"
          ]
        }
      ]
    },
    {
      "cell_type": "code",
      "source": [
        "# ============================\n",
        "# ✅ Start ngrok tunnel\n",
        "# ============================\n",
        "from pyngrok import ngrok, conf\n",
        "\n",
        "conf.get_default().auth_token = \"345YHqwg897i4MK7z0No0PE5qfX_2sQgWGWijH8nskroFwhiF\"   # 🔑 put your token here\n",
        "public_url = ngrok.connect(5000)\n",
        "print(\"🌍 Public URL:\", public_url)"
      ],
      "metadata": {
        "colab": {
          "base_uri": "https://localhost:8080/"
        },
        "id": "xSUEW_RBhbv5",
        "outputId": "93e12927-4101-4980-c58b-3de8031752fa"
      },
      "execution_count": null,
      "outputs": [
        {
          "output_type": "stream",
          "name": "stdout",
          "text": [
            "🌍 Public URL: NgrokTunnel: \"https://unjustifiably-warmthless-eleni.ngrok-free.dev\" -> \"http://localhost:5000\"\n"
          ]
        }
      ]
    }
  ]
}